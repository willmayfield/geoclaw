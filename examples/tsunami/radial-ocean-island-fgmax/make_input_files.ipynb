{
 "cells": [
  {
   "cell_type": "markdown",
   "metadata": {},
   "source": [
    "# Make input files for geoclaw_fgmax_test\n",
    "\n",
    "Create synthetic topo files and fgmax input file fgmax_pts_island.data specified as a topo_type==3 file."
   ]
  },
  {
   "cell_type": "code",
   "execution_count": null,
   "metadata": {
    "tags": [
     "hide-py"
    ]
   },
   "outputs": [],
   "source": [
    "%matplotlib inline"
   ]
  },
  {
   "cell_type": "code",
   "execution_count": null,
   "metadata": {},
   "outputs": [],
   "source": [
    "from pylab import *\n",
    "import os,sys\n",
    "from clawpack.visclaw import colormaps, plottools\n",
    "from clawpack.geoclaw import fgmax_tools, topotools\n",
    "from clawpack.visclaw.plottools import pcolorcells"
   ]
  },
  {
   "cell_type": "code",
   "execution_count": null,
   "metadata": {},
   "outputs": [],
   "source": [
    "zmin = -60.\n",
    "zmax = 40.\n",
    "\n",
    "land_cmap = colormaps.make_colormap({ 0.0:[0.1,0.4,0.0],\n",
    "                                     0.25:[0.0,1.0,0.0],\n",
    "                                      0.5:[0.8,1.0,0.5],\n",
    "                                      1.0:[0.8,0.5,0.2]})\n",
    "\n",
    "sea_cmap = colormaps.make_colormap({ 0.0:[0,0,1], 1.:[.8,.8,1]})\n",
    "\n",
    "cmap, norm = colormaps.add_colormaps((land_cmap, sea_cmap),\n",
    "                                     data_limits=(zmin,zmax),\n",
    "                                     data_break=0.)\n",
    "                                     \n",
    "sea_cmap_dry = colormaps.make_colormap({ 0.0:[1.0,0.7,0.7], 1.:[1.0,0.7,0.7]})\n",
    "cmap_dry, norm_dry = colormaps.add_colormaps((land_cmap, sea_cmap_dry),\n",
    "                                     data_limits=(zmin,zmax),\n",
    "                                     data_break=0.)"
   ]
  },
  {
   "cell_type": "markdown",
   "metadata": {},
   "source": [
    "## Run script to generate topo files"
   ]
  },
  {
   "cell_type": "code",
   "execution_count": null,
   "metadata": {},
   "outputs": [],
   "source": [
    "import maketopo\n",
    "maketopo.maketopo()\n",
    "maketopo.makeqinit()"
   ]
  },
  {
   "cell_type": "code",
   "execution_count": null,
   "metadata": {},
   "outputs": [],
   "source": [
    "ocean_topo = topotools.Topography(path='ocean.tt3', topo_type=3)\n",
    "island_topo = topotools.Topography(path='island.tt3', topo_type=3)\n",
    "ocean_topo.plot()\n",
    "plottools.plotbox(island_topo.extent, kwargs={'color':'r'})\n",
    "title('Ocean topo\\nRed box is location of island');"
   ]
  },
  {
   "cell_type": "code",
   "execution_count": null,
   "metadata": {},
   "outputs": [],
   "source": [
    "island_topo.plot()\n",
    "title('Island topo')"
   ]
  },
  {
   "cell_type": "code",
   "execution_count": null,
   "metadata": {},
   "outputs": [],
   "source": [
    "extent = [14.25, 14.65, 50.1, 50.35]\n",
    "topo = island_topo.crop(extent)\n",
    "\n",
    "figure(figsize=(12,6))\n",
    "pcolorcells(topo.X, topo.Y, topo.Z, cmap=cmap, norm=norm)\n",
    "colorbar(extend='both', ticks=arange(zmin,zmax+1,10))\n",
    "gca().set_aspect(1./cos(50.2*pi/180.))"
   ]
  },
  {
   "cell_type": "markdown",
   "metadata": {},
   "source": [
    "## Select only points in this region near shore \n",
    "\n",
    "Select the points where `Z > -15`m or `Z < 15`m elevation."
   ]
  },
  {
   "cell_type": "code",
   "execution_count": null,
   "metadata": {},
   "outputs": [],
   "source": [
    "pts_chosen = where(logical_and(topo.Z>-15, topo.Z<15), 1, 0)"
   ]
  },
  {
   "cell_type": "code",
   "execution_count": null,
   "metadata": {},
   "outputs": [],
   "source": [
    "Zchosen = ma.masked_array(topo.Z, logical_not(pts_chosen))"
   ]
  },
  {
   "cell_type": "code",
   "execution_count": null,
   "metadata": {},
   "outputs": [],
   "source": [
    "figure(figsize=(12,6))\n",
    "pcolorcells(topo.X, topo.Y, Zchosen, cmap=cmap, norm=norm)\n",
    "colorbar(extend='both', ticks=arange(zmin,zmax+1,10))\n",
    "gca().set_aspect(1./cos(48*pi/180.))"
   ]
  },
  {
   "cell_type": "markdown",
   "metadata": {},
   "source": [
    "### Write file indicating these points\n",
    "\n",
    "Create a file that is like a topo DEM file with `topo_type==3` but with `Z` values equal to either 1 (if point is to be used as an fgmax point) or 0 (if not).\n",
    "\n",
    "This file can be used together with setting `point_style==4` in `setrun.py`."
   ]
  },
  {
   "cell_type": "code",
   "execution_count": null,
   "metadata": {},
   "outputs": [],
   "source": [
    "fname_fgmax_mask = 'fgmax_pts_island.data'\n",
    "topo_fgmax_mask = topotools.Topography()\n",
    "\n",
    "#topo_fgmax_mask.set_xyZ(topo.x, topo.y, chosen) # new in 5.7.0 will replace lines below\n",
    "topo_fgmax_mask._x = topo.x\n",
    "topo_fgmax_mask._y = topo.y\n",
    "topo_fgmax_mask._Z = pts_chosen\n",
    "topo_fgmax_mask.generate_2d_coordinates()\n",
    "\n",
    "topo_fgmax_mask.write(fname_fgmax_mask, topo_type=3, Z_format='%1i')\n",
    "print('Created %s' % fname_fgmax_mask)"
   ]
  },
  {
   "cell_type": "code",
   "execution_count": null,
   "metadata": {},
   "outputs": [],
   "source": []
  }
 ],
 "metadata": {
  "kernelspec": {
   "display_name": "Python 3",
   "language": "python",
   "name": "python3"
  },
  "language_info": {
   "codemirror_mode": {
    "name": "ipython",
    "version": 3
   },
   "file_extension": ".py",
   "mimetype": "text/x-python",
   "name": "python",
   "nbconvert_exporter": "python",
   "pygments_lexer": "ipython3",
   "version": "3.6.10"
  }
 },
 "nbformat": 4,
 "nbformat_minor": 2
}
